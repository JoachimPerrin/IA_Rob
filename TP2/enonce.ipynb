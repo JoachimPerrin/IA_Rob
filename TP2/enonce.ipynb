{
 "cells": [
  {
   "cell_type": "markdown",
   "metadata": {},
   "source": [
    "Pour ce TP, vous aurez besoin des modules suivants:\n",
    "\n",
    "(Adaptez la commande à votre système)"
   ]
  },
  {
   "cell_type": "code",
   "execution_count": 1,
   "metadata": {},
   "outputs": [
    {
     "name": "stdout",
     "output_type": "stream",
     "text": [
      "Requirement already satisfied: numpy in /Users/joachim/Work/ROB/Projets/S9_ROB/TP_IaRob/myenv/lib/python3.12/site-packages (2.3.3)\n",
      "Requirement already satisfied: matplotlib in /Users/joachim/Work/ROB/Projets/S9_ROB/TP_IaRob/myenv/lib/python3.12/site-packages (3.10.6)\n",
      "Requirement already satisfied: tqdm in /Users/joachim/Work/ROB/Projets/S9_ROB/TP_IaRob/myenv/lib/python3.12/site-packages (4.67.1)\n",
      "Requirement already satisfied: arcade==2.6.17 in /Users/joachim/Work/ROB/Projets/S9_ROB/TP_IaRob/myenv/lib/python3.12/site-packages (2.6.17)\n",
      "Requirement already satisfied: spg==0.1.9 in /Users/joachim/Work/ROB/Projets/S9_ROB/TP_IaRob/myenv/lib/python3.12/site-packages (0.1.9)\n",
      "Requirement already satisfied: pyglet==2.0.dev23 in /Users/joachim/Work/ROB/Projets/S9_ROB/TP_IaRob/myenv/lib/python3.12/site-packages (from arcade==2.6.17) (2.0.dev23)\n",
      "Requirement already satisfied: pillow~=9.3.0 in /Users/joachim/Work/ROB/Projets/S9_ROB/TP_IaRob/myenv/lib/python3.12/site-packages (from arcade==2.6.17) (9.3.0)\n",
      "Requirement already satisfied: pymunk~=6.4.0 in /Users/joachim/Work/ROB/Projets/S9_ROB/TP_IaRob/myenv/lib/python3.12/site-packages (from arcade==2.6.17) (6.4.0)\n",
      "Requirement already satisfied: pytiled-parser==2.2.0 in /Users/joachim/Work/ROB/Projets/S9_ROB/TP_IaRob/myenv/lib/python3.12/site-packages (from arcade==2.6.17) (2.2.0)\n",
      "Requirement already satisfied: pyyaml in /Users/joachim/Work/ROB/Projets/S9_ROB/TP_IaRob/myenv/lib/python3.12/site-packages (from spg==0.1.9) (6.0.2)\n",
      "Requirement already satisfied: scikit-image in /Users/joachim/Work/ROB/Projets/S9_ROB/TP_IaRob/myenv/lib/python3.12/site-packages (from spg==0.1.9) (0.24.0)\n",
      "Requirement already satisfied: pytest in /Users/joachim/Work/ROB/Projets/S9_ROB/TP_IaRob/myenv/lib/python3.12/site-packages (from spg==0.1.9) (8.4.2)\n",
      "Requirement already satisfied: gym in /Users/joachim/Work/ROB/Projets/S9_ROB/TP_IaRob/myenv/lib/python3.12/site-packages (from spg==0.1.9) (0.26.2)\n",
      "Requirement already satisfied: tripy in /Users/joachim/Work/ROB/Projets/S9_ROB/TP_IaRob/myenv/lib/python3.12/site-packages (from spg==0.1.9) (1.0.0)\n",
      "Requirement already satisfied: attrs>=18.2.0 in /Users/joachim/Work/ROB/Projets/S9_ROB/TP_IaRob/myenv/lib/python3.12/site-packages (from pytiled-parser==2.2.0->arcade==2.6.17) (25.3.0)\n",
      "Requirement already satisfied: typing-extensions in /Users/joachim/Work/ROB/Projets/S9_ROB/TP_IaRob/myenv/lib/python3.12/site-packages (from pytiled-parser==2.2.0->arcade==2.6.17) (4.15.0)\n",
      "Requirement already satisfied: cffi>=1.15.0 in /Users/joachim/Work/ROB/Projets/S9_ROB/TP_IaRob/myenv/lib/python3.12/site-packages (from pymunk~=6.4.0->arcade==2.6.17) (2.0.0)\n",
      "Requirement already satisfied: contourpy>=1.0.1 in /Users/joachim/Work/ROB/Projets/S9_ROB/TP_IaRob/myenv/lib/python3.12/site-packages (from matplotlib) (1.3.3)\n",
      "Requirement already satisfied: cycler>=0.10 in /Users/joachim/Work/ROB/Projets/S9_ROB/TP_IaRob/myenv/lib/python3.12/site-packages (from matplotlib) (0.12.1)\n",
      "Requirement already satisfied: fonttools>=4.22.0 in /Users/joachim/Work/ROB/Projets/S9_ROB/TP_IaRob/myenv/lib/python3.12/site-packages (from matplotlib) (4.60.0)\n",
      "Requirement already satisfied: kiwisolver>=1.3.1 in /Users/joachim/Work/ROB/Projets/S9_ROB/TP_IaRob/myenv/lib/python3.12/site-packages (from matplotlib) (1.4.9)\n",
      "Requirement already satisfied: packaging>=20.0 in /Users/joachim/Work/ROB/Projets/S9_ROB/TP_IaRob/myenv/lib/python3.12/site-packages (from matplotlib) (25.0)\n",
      "Requirement already satisfied: pyparsing>=2.3.1 in /Users/joachim/Work/ROB/Projets/S9_ROB/TP_IaRob/myenv/lib/python3.12/site-packages (from matplotlib) (3.2.5)\n",
      "Requirement already satisfied: python-dateutil>=2.7 in /Users/joachim/Work/ROB/Projets/S9_ROB/TP_IaRob/myenv/lib/python3.12/site-packages (from matplotlib) (2.9.0.post0)\n",
      "Requirement already satisfied: pycparser in /Users/joachim/Work/ROB/Projets/S9_ROB/TP_IaRob/myenv/lib/python3.12/site-packages (from cffi>=1.15.0->pymunk~=6.4.0->arcade==2.6.17) (2.23)\n",
      "Requirement already satisfied: six>=1.5 in /Users/joachim/Work/ROB/Projets/S9_ROB/TP_IaRob/myenv/lib/python3.12/site-packages (from python-dateutil>=2.7->matplotlib) (1.17.0)\n",
      "Requirement already satisfied: cloudpickle>=1.2.0 in /Users/joachim/Work/ROB/Projets/S9_ROB/TP_IaRob/myenv/lib/python3.12/site-packages (from gym->spg==0.1.9) (3.1.1)\n",
      "Requirement already satisfied: gym_notices>=0.0.4 in /Users/joachim/Work/ROB/Projets/S9_ROB/TP_IaRob/myenv/lib/python3.12/site-packages (from gym->spg==0.1.9) (0.1.0)\n",
      "Requirement already satisfied: iniconfig>=1 in /Users/joachim/Work/ROB/Projets/S9_ROB/TP_IaRob/myenv/lib/python3.12/site-packages (from pytest->spg==0.1.9) (2.1.0)\n",
      "Requirement already satisfied: pluggy<2,>=1.5 in /Users/joachim/Work/ROB/Projets/S9_ROB/TP_IaRob/myenv/lib/python3.12/site-packages (from pytest->spg==0.1.9) (1.6.0)\n",
      "Requirement already satisfied: pygments>=2.7.2 in /Users/joachim/Work/ROB/Projets/S9_ROB/TP_IaRob/myenv/lib/python3.12/site-packages (from pytest->spg==0.1.9) (2.19.2)\n",
      "Requirement already satisfied: scipy>=1.9 in /Users/joachim/Work/ROB/Projets/S9_ROB/TP_IaRob/myenv/lib/python3.12/site-packages (from scikit-image->spg==0.1.9) (1.16.2)\n",
      "Requirement already satisfied: networkx>=2.8 in /Users/joachim/Work/ROB/Projets/S9_ROB/TP_IaRob/myenv/lib/python3.12/site-packages (from scikit-image->spg==0.1.9) (3.5)\n",
      "Requirement already satisfied: imageio>=2.33 in /Users/joachim/Work/ROB/Projets/S9_ROB/TP_IaRob/myenv/lib/python3.12/site-packages (from scikit-image->spg==0.1.9) (2.37.0)\n",
      "Requirement already satisfied: tifffile>=2022.8.12 in /Users/joachim/Work/ROB/Projets/S9_ROB/TP_IaRob/myenv/lib/python3.12/site-packages (from scikit-image->spg==0.1.9) (2025.9.20)\n",
      "Requirement already satisfied: lazy-loader>=0.4 in /Users/joachim/Work/ROB/Projets/S9_ROB/TP_IaRob/myenv/lib/python3.12/site-packages (from scikit-image->spg==0.1.9) (0.4)\n"
     ]
    }
   ],
   "source": [
    "! pip3 install numpy matplotlib tqdm arcade==2.6.17 spg==0.1.9 "
   ]
  },
  {
   "cell_type": "code",
   "execution_count": 2,
   "metadata": {},
   "outputs": [],
   "source": [
    "from abc import ABC, abstractmethod\n",
    "import numpy as np\n",
    "import pickle as pk\n",
    "from tqdm import tqdm"
   ]
  },
  {
   "cell_type": "markdown",
   "metadata": {},
   "source": [
    "## TP2: Rétropropagation\n",
    "\n",
    "L'objectif de ce TP est d'implémenter à la main l'algorithme de rétropropagation du gradient, et de l'appliquer pour entraîner un perceptron multi-couche à imiter une politique consistant à longer les murs dans un environnement 2D.\n",
    "\n",
    "Dans la première partie, nous allons nous concentrer sur l'implémentation de l'algorithme de rétropropagation, et dans une deuxième partie nous l'appliquerons à la tâche d'apprentissage mentionnée.\n",
    "\n",
    "### 1. Rétropropagation du gradient\n",
    "\n",
    "Le code à compléter vous est fourni dans ce notebook, il n'y aura pas besoin d'aller toucher aux autres fichiers.\n",
    "\n",
    "Dans cette première cellule, on définit une classe abstraite `Node`, correspondant à un noeud quelconque dans un graphe de calcul. \n",
    "La classe `Node` est équipée de deux attributs:\n",
    "- `parameters`: un dictionnaire donnant les valeurs actuelles des paramètres du noeud\n",
    "- `gradients`: un dictionnaire donnant les valeurs actuelles des gradients calculés sur les paramètres du noeud, avant qu'ils ne soient appliqués\n",
    "\n",
    "La classe `Node` est également équipée de quatre méthodes:\n",
    "- `forward`: permet de calculer la sortie du noeud en fonction des entrées\n",
    "- `backward`: permet de calculer le gradient par rapport aux différentes entrées, en fonction du gradient par rapport à la sortie\n",
    "- `zero_grad`: permet de remettre à 0 tous les gradients accumulés par l'appel de la méthode `backward`\n",
    "- `step`: permet de réaliser une étape de descente de gradient sur les paramètres du noeud, en suivant la règle d'apprentissage vue en cours\n",
    "\n",
    "\n",
    "#### Question 1.\n",
    "Complétez la définition de la méthode `step`. Le paramètre `lr` donné en argument veut dire \"learning rate\", et correspond au lambda dans l'équation vue en cours. La méthode doit mettre à toujours tous les paramètres qui sont listés dans le dictionnaire, en appliquant la règle de descente de gradient. Les gradients sont censés être calculés par la méthode `backward` dont l'implémentation dépendra du noeud (la classe est pour l'instant abstraite, on verra ça ensuite). On suppose donc ici que les valeurs des gradients sont déjà calculées et disponibles dans le dictionnaire `self.gradients`."
   ]
  },
  {
   "cell_type": "code",
   "execution_count": 3,
   "metadata": {},
   "outputs": [],
   "source": [
    "class Node(ABC):\n",
    "\n",
    "    def __init__(self):\n",
    "        self.parameters = {}\n",
    "        self.gradients = {}\n",
    "\n",
    "    @abstractmethod\n",
    "    def forward(*args):\n",
    "        # Calcule la sortie du noeud en fonction des entrées\n",
    "        pass\n",
    "\n",
    "    @abstractmethod\n",
    "    def backward(self, dy):\n",
    "        # Calcule les gradients des paramètres en fonction de dy\n",
    "        pass\n",
    "\n",
    "    def zero_grad(self):\n",
    "        # Remet à zéro les gradients\n",
    "        for key in self.gradients:\n",
    "            self.gradients[key] = 0\n",
    "\n",
    "    def step(self, lr):\n",
    "        for key, value in self.parameters.items():\n",
    "            self.parameters[key] -= lr * self.gradients[key]"
   ]
  },
  {
   "cell_type": "markdown",
   "metadata": {},
   "source": [
    "#### Question 2.\n",
    "\n",
    "Nous allons maintenant définir le premier noeud de notre perceptron multi-couche. Pour commencer, on va s'intéresser au noeud correspondant à la fonction d'activation tanh. Ce noeud ne possède pas de paramètres, et donc il suffira d'implémenter les méthodes `forward` et `backward`.\n",
    "\n",
    "Le noeud doit pouvoir prendre des entrées vectorielles (et même des np.array à deux dimensions, nous verrons ça plus tard), il faut donc utiliser le module numpy plutôt que math.\n",
    "\n",
    "On pourra remarquer qu'on a besoin de la valeur de tanh(x) dans le calcul du gradient. Pour résoudre ce problème, on peut conserver la valeur calculée pendant la passe `forward` dans un attribut (par exemple nommé `tanh_x`).\n",
    "\n",
    "Complétez et tester la classe suivante:"
   ]
  },
  {
   "cell_type": "code",
   "execution_count": 4,
   "metadata": {},
   "outputs": [],
   "source": [
    "class Tanh(Node):\n",
    "\n",
    "    def forward(self, x):\n",
    "        self.tanh_x = np.tanh(x)\n",
    "        return self.tanh_x\n",
    "\n",
    "    def backward(self, dy):\n",
    "        return dy*(1 - np.pow(self.tanh_x, 2)) # tanh' = 1 - tanh^2"
   ]
  },
  {
   "cell_type": "code",
   "execution_count": 5,
   "metadata": {},
   "outputs": [
    {
     "name": "stdout",
     "output_type": "stream",
     "text": [
      "[-0.76159416  0.76159416  0.99505475]\n",
      "[-0.41997434  0.41997434  0.02959811]\n"
     ]
    }
   ],
   "source": [
    "# Pour tester votre classe, vous pouvez utiliser le code suivant\n",
    "tanh = Tanh()\n",
    "x = np.array([-1, 1, 3])\n",
    "y = tanh.forward(x)\n",
    "print(y)  # Doit afficher [-0.76159416  0.76159416  0.99505475]\n",
    "\n",
    "dy = np.array([-1, 1, 3])\n",
    "dy = tanh.backward(dy)\n",
    "print(dy)  # Doit afficher [-0.41997434  0.41997434  0.02959811]"
   ]
  },
  {
   "cell_type": "markdown",
   "metadata": {},
   "source": [
    "#### Question 3.\n",
    "\n",
    "Nous allons maintenant implémenter le noeud `Linear` qui possède lui des paramètres. Ce noeud effectue une transformation linéaire sur une entrée vectorielle: y = Wx + b.\n",
    "\n",
    "Le constructeur prend en argument deux paramètres `n_in` et `n_out` donnant la dimension de l'entrée (x) et la dimension de la sortie (y). Comme en réalité on voudra manipuler des batchs d'entrées, `x` sera une matrice de taille (`batch_size`, `n_in`) et `y` sera une matrice de taille (`batch_size`,`n_out`)\n",
    "\n",
    "Les paramètres à ajouter au dictionnaire sont:\n",
    "- 'weights' contient une matrice de poids de taille (n_out x n_in)\n",
    "- 'bias' contient un vecteur de biais de taille (n_out)\n",
    "\n",
    "Les valeurs des paramètres sont initialisées aléatoirement suivant une distribution normale, obtenue en utilisant numpy.random.randn. Les gradients sont quant à eux initialisés à 0.\n",
    "\n",
    "Complétez et tester la classe suivante:"
   ]
  },
  {
   "cell_type": "code",
   "execution_count": 6,
   "metadata": {},
   "outputs": [],
   "source": [
    "\n",
    "class Linear(Node):\n",
    "\n",
    "    def __init__(self, n_in, n_out):\n",
    "        super().__init__()\n",
    "        self.parameters['W'] = np.random.randn(n_out, n_in)\n",
    "        self.parameters['b'] = np.random.randn(n_out)\n",
    "        self.zero_grad()\n",
    "\n",
    "    def forward(self, x):\n",
    "        self.x = x\n",
    "        return x @ self.parameters['W'].T + self.parameters['b'] \n",
    "        # @ is short for np.matmul\n",
    "        # W needs to be transposed for dimensionnal coherence: x @ W.T is (n_batch, n_in) @ (n_in, n_out)\n",
    "\n",
    "    def backward(self, dy):\n",
    "        dx = dy @ self.parameters['W']\n",
    "        self.gradients['W'] = dy.T @ self.x\n",
    "        self.gradients['b'] = dy.sum(axis=0)\n",
    "        return dx"
   ]
  },
  {
   "cell_type": "code",
   "execution_count": 7,
   "metadata": {},
   "outputs": [
    {
     "name": "stdout",
     "output_type": "stream",
     "text": [
      "(1, 2)\n",
      "(1, 3)\n"
     ]
    }
   ],
   "source": [
    "# Pour tester votre classe, vous pouvez utiliser le code suivant\n",
    "linear = Linear(3, 2)\n",
    "x = np.array([[-1, 1, 3]])\n",
    "y = linear.forward(x)\n",
    "print(y.shape)  # Doit afficher (1, 2)\n",
    "\n",
    "dy = np.array([[-1, 1]])\n",
    "dy = linear.backward(dy)\n",
    "print(dy.shape)  # Doit afficher (1, 3)"
   ]
  },
  {
   "cell_type": "markdown",
   "metadata": {},
   "source": [
    "#### Question 4.\n",
    "\n",
    "Nous allons maintenant implémenter le dernier noeud dont nous aurons besoin: celui qui réalise la fonction de perte. Dans ce TP, nous allons utiliser comme fonction de perte la Mean Squared Error (souvent abrégée MSE), une fonction de perte très classique utilisée dans les tâches de régression.\n",
    "\n",
    "Cette fonction de perte prend deux entrées:\n",
    "- Un vecteur `y_true` provenant du dataset, correspondant à la vraie valeur de sortie désirée du réseau de neurones\n",
    "- Un vecteur `y_pred` produite par le réseau de neurones, que l'on souhaite faire tendre vers `y_true`\n",
    "\n",
    "En réalité encore, comme on va manipuler des batchs, `y_true` et `y_pred` seront en réalité des matrices.\n",
    "\n",
    "La sortie de la fonction de perte est la moyenne de ((`y_true` - `y_pred`) au carré). On peut comprendre intuitivement que cette fonction mesure une sorte de distance Euclidienne entre les deux vecteurs, et donc qu'en la minimisant, on encourage la sortie du réseau de neurones à être égale à la sortie désirée donnée dans le dataset.\n",
    "\n",
    "Lors de la rétropropagation, on ne s'intéresse qu'au gradient par rapport à `y_pred` (c'est de ce côté du graphe de calcul qu'il y a des paramètres à optimiser). On ne renverra donc qu'une valeur.\n",
    "\n",
    "Complétez et testez la classe suivante:"
   ]
  },
  {
   "cell_type": "code",
   "execution_count": 8,
   "metadata": {},
   "outputs": [],
   "source": [
    "class MSELoss(Node):\n",
    "    def forward(self, y_true, y_pred):\n",
    "        self.N = y_pred.shape[0]\n",
    "        self.error = y_pred - y_true\n",
    "        return np.mean(np.pow(self.error,2), axis=1, keepdims=True)\n",
    "\n",
    "    def backward(self, dy):\n",
    "        return dy * (2 / self.N) * self.error\n",
    "  "
   ]
  },
  {
   "cell_type": "code",
   "execution_count": 9,
   "metadata": {},
   "outputs": [
    {
     "name": "stdout",
     "output_type": "stream",
     "text": [
      "[[0.5]]\n",
      "[[0. 2.]]\n"
     ]
    }
   ],
   "source": [
    "# Code pour tester votre classe\n",
    "loss = MSELoss()\n",
    "y_true = np.array([[-1, 1]])\n",
    "y_pred = np.array([[-1, 2]])\n",
    "y = loss.forward(y_true, y_pred)\n",
    "print(y)  # Doit afficher 0.5\n",
    "\n",
    "dy = np.array([1])\n",
    "dy = loss.backward(dy)\n",
    "print(dy)  # Doit afficher [[0. 2.]]"
   ]
  },
  {
   "cell_type": "markdown",
   "metadata": {},
   "source": [
    "#### Question 5.\n",
    "\n",
    "Pour finir cette partie, nous allons maintenant implémenter le graphe de calcul complet pour un perceptron multi-couches avec une couche cachée.\n",
    "\n",
    "Le graphe doit être composé dans l'ordre:\n",
    "- Un noeud Linear\n",
    "- Un noeud Tanh\n",
    "- Un deuxième noeud Linear (attention, différent du premier, avec ses propres paramètres)\n",
    "- Un noeud Tanh\n",
    "- Un noeud MSELoss\n",
    "\n",
    "Tous ces noeuds doivent être enregistrés comme des attributs du réseau. La méthode `forward` prend deux entrées, `x` et `y_true`. En sortie, on doit obtenir le résultat de l'application de la fonction de perte sur `y_pred` et `y_true`, où `y_pred` correspond à la sortie du graphe en amont, obtenue en appelant les méthodes `forward` des différents noeuds.\n",
    "\n",
    "Pour pouvoir réutiliser les réseaux de neurones en mode prédiction plus tard, on encapsulera toute la passe forward à l'exception de la fonction de perte dans une méthode `predict`.\n",
    "\n",
    "La méthode `backward` doit à l'inverse appeler les méthodes `backward` des différents noeuds. A l'extrémité du graphe, on considère que `dy` vaut 1 (c'est le gradient de la sortie par rapport à elle même).\n",
    "\n",
    "Les méthodes `zero_grad` et `step` doivent appeler les méthodes du même nom pour les noeuds concernés (ceux qui ont des paramètres).\n",
    "\n",
    "Le constructeur de la classe prend en entrée:\n",
    "- `n_in`: la dimension des entrées du réseaux de neurones\n",
    "- `n_hidden`: la dimension de la couche cachée\n",
    "- `n_out`: la dimension de la sortie\n",
    "- `loss_fn`: l'instance de MSELoss que nous allons utiliser comme fonction de perte. Cette implémentation nous laisse la liberté de changer la fonction de perte sans modifier la classe.\n",
    "\n",
    "Implémentez et testez la classe suivante:"
   ]
  },
  {
   "cell_type": "code",
   "execution_count": 10,
   "metadata": {},
   "outputs": [],
   "source": [
    "class MultiLayerPerceptron:\n",
    "\n",
    "    def __init__(self, n_in, n_hidden, n_out, loss_fn):\n",
    "        self.graph = []\n",
    "        self.graph.append(Linear(n_in, n_hidden))\n",
    "        self.graph.append(Tanh())\n",
    "        self.graph.append(Linear(n_hidden, n_out))\n",
    "        self.graph.append(Tanh())\n",
    "        self.graph.append(loss_fn)\n",
    "\n",
    "    def forward(self, x, y_true):\n",
    "        for n in self.graph[:-1]:\n",
    "            x = n.forward(x)\n",
    "        return self.graph[-1].forward(y_true, x)\n",
    "\n",
    "    def backward(self, dy=1):\n",
    "        for node in reversed(self.graph):\n",
    "            dy = node.backward(dy)\n",
    "        return dy \n",
    "\n",
    "    def predict(self, x):\n",
    "        for node in self.graph[:-1]:\n",
    "            x = node.forward(x)\n",
    "        return x\n",
    "            \n",
    "    def zero_grad(self):\n",
    "        for node in self.graph:\n",
    "            node.zero_grad()\n",
    "\n",
    "    def step(self, lr):\n",
    "        for node in self.graph[:-1]:\n",
    "            node.step(lr)"
   ]
  },
  {
   "cell_type": "code",
   "execution_count": 11,
   "metadata": {},
   "outputs": [
    {
     "name": "stdout",
     "output_type": "stream",
     "text": [
      "(100, 1)\n",
      "(100, 32)\n"
     ]
    }
   ],
   "source": [
    "# Pour tester votre classe, vous pouvez utiliser le code suivant\n",
    "n_in = 32\n",
    "n_hidden = 100\n",
    "n_out = 1\n",
    "\n",
    "model = MultiLayerPerceptron(\n",
    "    n_in,\n",
    "    n_hidden,\n",
    "    n_out,\n",
    "    MSELoss()\n",
    ")\n",
    "\n",
    "# Fausses données juste pour le test\n",
    "x = np.random.randn(100, n_in)\n",
    "y_true = np.random.randn(100, n_out)\n",
    "\n",
    "y = model.forward(x, y_true)\n",
    "print(y.shape)  # Doit afficher (100, 1)\n",
    "\n",
    "dy = model.backward()\n",
    "print(dy.shape)  # Doit afficher (100, 32)\n",
    "\n",
    "# Vous pouvez aussi tester la méthode step et vérifier qu'elle met bien à jour les paramètres des noeuds Linear"
   ]
  },
  {
   "attachments": {
    "image.png": {
     "image/png": "[encoded data removed]"
    }
   },
   "cell_type": "markdown",
   "metadata": {},
   "source": [
    "### Partie 2: Entraînement du modèle\n",
    "\n",
    "Dans cette partie, nous allons voir comment entraîner le réseau que nous avons implémenté sur une tâche d'apprentissage par imitation.\n",
    "\n",
    "L'environnement utilisé pour cette tâche est implémenté avec le module simple-playground (spg) que vous avez installé au début du notebook. Le fichier \"env.py\" contient le code nécessaire pour tester votre politique dans cet environnement. \n",
    "\n",
    "Simple playgrounds est un simulateur 2D. L'environnement choisi contient 9 pièces organisées en une grille de (3x3). L'agent est équipé d'un capteur de distance avec un champ de vision de 360° et une résolution de 32. L'état sensoriel de l'agent à un instant $t$ est donc un vecteur de dimension 32 indiquant pour chaque indice la distance du mur le plus proche dans la direction correspondante.\n",
    "\n",
    "![image.png](attachment:image.png)"
   ]
  },
  {
   "cell_type": "markdown",
   "metadata": {},
   "source": [
    "Nous avons au préalable récolté dans cet environnement 10 trajectoires suivant une politique consistant à longer le mur se situant à droite de l'agent.\n",
    "\n",
    "Dans le dossier \"data\" se trouvent deux fichiers:\n",
    "- sensory_states_wall.pk\n",
    "- actions_wall.pk\n",
    "contenant respectivement les trajectoires d'états sensoriels $s_t$ et des actions correspondantes $a_t$.\n",
    "\n",
    "L'action correspond dans notre cas juste à la direction de rotation de l'agent à chaque instant $t$. $a_t = -1$ quand l'agent tourne vers la gauche, $a_t=0$ quand l'agent continue tout droit, et $a_t=1$ quand l'agent tourne vers la droite.\n",
    "\n",
    "Comme nous souhaitons entraîner une politique permettant de calculer $a_t$ à partir de $s_t$, $s_t$ sera l'entrée du réseau `x`, et $a_t$ sera sa sortie désirée `y_true`.\n",
    "\n",
    "Le bloc de code suivant sert à charger le dataset:"
   ]
  },
  {
   "cell_type": "code",
   "execution_count": 12,
   "metadata": {},
   "outputs": [],
   "source": [
    "x = pk.load(open('data/sensory_states_wall.pk', 'rb'))\n",
    "x = np.concatenate([np.array(traj).reshape(-1, 32) for traj in x], axis=0)\n",
    "x = x.reshape(-1, 32)\n",
    "\n",
    "y = pk.load(open('data/actions_wall.pk', 'rb'))\n",
    "y = np.concatenate([np.array(traj).reshape(-1, 2)\n",
    "                   for traj in y], axis=0)[:, 0:1] * 5"
   ]
  },
  {
   "cell_type": "markdown",
   "metadata": {},
   "source": [
    "Les paires $(s_t, a_t)$ du dataset sont ordonnées dans l'ordre dans lequel elles ont été récolté. Cela peut être néfaste à l'apprentissage, car chaque batch risque de contenir des données très similaires. Il est toujours préférable de mélanger le dataset avant d'entraîner le réseau de neurones. C'est ce qui est réalisé dans la cellule suivante:"
   ]
  },
  {
   "cell_type": "code",
   "execution_count": 13,
   "metadata": {},
   "outputs": [],
   "source": [
    "# Mélange aléatoire\n",
    "idx = np.random.permutation(len(x))\n",
    "x = x[idx]\n",
    "y = y[idx]"
   ]
  },
  {
   "cell_type": "markdown",
   "metadata": {},
   "source": [
    "#### Question 6:\n",
    "\n",
    "Enfin, il faut séparer le dataset en deux: un dataset d'entraînement et un dataset de test. Le dataset d'entraînement contient les paires (x, y) qui seront utilisées pour l'entraînement du réseau de neurones. Le dataset de test contient les paires (x, y) restantes, qu'on utilise pour vérifier que le réseau de neurones n'est pas en situation d'overfitting (surapprentissage).\n",
    "\n",
    "Découpez le dataset en deux, on mettra uniquement 1000 paires (x, y) dans le dataset de test, le reste allant dans le dataset d'entraînement."
   ]
  },
  {
   "cell_type": "code",
   "execution_count": 14,
   "metadata": {},
   "outputs": [
    {
     "name": "stdout",
     "output_type": "stream",
     "text": [
      "1000\n"
     ]
    }
   ],
   "source": [
    "# A compléter\n",
    "test_size = 1000# len(x)//10 # data set of about 10k examples -> test is ~10%\n",
    "\n",
    "print(test_size)\n",
    "\n",
    "x_train = x[:-test_size]\n",
    "x_test = x[-test_size:]\n",
    "\n",
    "y_train = y[:-test_size]\n",
    "y_test = y[-test_size:]\n"
   ]
  },
  {
   "cell_type": "markdown",
   "metadata": {},
   "source": [
    "#### Question 7:\n",
    "\n",
    "Nous pouvons maintenant entraîner le réseau de neurones. La cellule suivante contient le code permettant de réaliser la boucle d'apprentissage. \n",
    "\n",
    "On commence par définir plusieurs hyperparamètres:\n",
    "- `learning_rate`: ce paramètre contrôle l'amplitude des mises à jour par descente de gradient\n",
    "- `batch_size`: ce paramètre correspond à la taille des batchs qui seront utilisés pendant l'apprentissage. Le dataset d'entraînement sera séparé en $n$ batchs qui seront tour à tour présentés au réseau de neurones et utilisés pour calculer les gradients. \n",
    "- `epochs`: ce paramètre indique le nombre de fois successives que l'on va présenter en entier tout le dataset d'apprentissage (les $n$ batchs) au réseau de neurones durant l'entraînement.\n",
    "\n",
    "Le reste du code permet de réaliser l'apprentissage. La boucle extérieure itère sur le nombre d'`epochs` et la boucle intérieure itère sur les batchs. A la fin de chaque `epoch`, évalue aussi la fonction de perte sur le dataset de test. On enregistre pour chaque `epoch` la valeur moyenne de la fonction de perte évaluée sur le dataset d'entraînement et sur le dataset de test, dans les listes `train_losses` et `test_losses`.\n",
    "\n",
    "Complétez et lancez le code suivant:"
   ]
  },
  {
   "cell_type": "code",
   "execution_count": 15,
   "metadata": {},
   "outputs": [
    {
     "name": "stderr",
     "output_type": "stream",
     "text": [
      "100%|██████████| 128/128 [00:02<00:00, 54.76it/s]\n"
     ]
    }
   ],
   "source": [
    "n_train = x_train.shape[0]\n",
    "n_test = x_test.shape[0]\n",
    "\n",
    "n_in = 32  # Dimension de l'entrée\n",
    "n_hidden = 100  # Dimension de la couche cachée\n",
    "n_out = 1  # Dimension de la sortie\n",
    "\n",
    "# On instancie le modèle que l'on va entraîner\n",
    "model = MultiLayerPerceptron(\n",
    "    n_in,\n",
    "    n_hidden,\n",
    "    n_out,\n",
    "    MSELoss()\n",
    ")\n",
    "\n",
    "# Hyperparamètres\n",
    "learning_rate = 1e-4\n",
    "batch_size = 32\n",
    "epochs = 128\n",
    "\n",
    "# On conserve les pertes pour les tracer à la fin\n",
    "train_losses = []\n",
    "test_losses = []\n",
    "\n",
    "# Boucle externe sur les époques\n",
    "for epoch in tqdm(range(epochs)):\n",
    "\n",
    "    # On fait une somme itérative de la fonction de perte sur les batchs\n",
    "    train_loss = 0.\n",
    "\n",
    "    # Boucle interne sur les batchs\n",
    "    for i in range(0, n_train, batch_size):\n",
    "\n",
    "        # A compléter: extraire le batch\n",
    "        x_batch = x_train[i:i+batch_size]\n",
    "        y_batch = y_train[i:i+batch_size]\n",
    "\n",
    "        # A compléter: apprentissage sur le batch\n",
    "        model.zero_grad() # reset gradients\n",
    "        train_loss += np.mean(model.forward(x_batch, y_batch)) # forward pass, store loss accumulation\n",
    "        model.backward() # backward pass, compute gradients\n",
    "        model.step(learning_rate) # update parameters according to gradients\n",
    "\n",
    "    # A compléter: calcul de la perte sur les données de test\n",
    "    test_loss = np.mean(model.forward(x_test, y_test))\n",
    "\n",
    "    # On conserve les pertes pour les tracer à la fin\n",
    "    train_losses.append(train_loss / (n_train / batch_size))\n",
    "    test_losses.append(test_loss)"
   ]
  },
  {
   "cell_type": "markdown",
   "metadata": {},
   "source": [
    "L'entraînement ne devrait pas durer plus d'une minute (moins de 10 secondes sur mon ordinateur personnel) avec les hyperparamètres donnés. Vous pouvez ensuite afficher l'évolution de la fonction de perte sur les dataset d'entraînement et de test avec la cellule suivante:"
   ]
  },
  {
   "cell_type": "code",
   "execution_count": 16,
   "metadata": {},
   "outputs": [
    {
     "data": {
      "image/png": "[encoded data removed]",
      "text/plain": [
       "<Figure size 640x480 with 1 Axes>"
      ]
     },
     "metadata": {},
     "output_type": "display_data"
    }
   ],
   "source": [
    "import matplotlib.pyplot as plt\n",
    "\n",
    "plt.plot(train_losses, label='Train')\n",
    "plt.plot(test_losses, label='Test')\n",
    "plt.xlabel('Epoch')\n",
    "plt.ylabel('Loss')\n",
    "plt.yscale('log')\n",
    "plt.legend()\n",
    "plt.show()"
   ]
  },
  {
   "cell_type": "markdown",
   "metadata": {},
   "source": [
    "#### Question 8:\n",
    "\n",
    "Vous devez observer que les deux fonctions de pertes décroissent pendant l'entraînement. Les hyperparamètres donnés sont loins d'être optimaux. Expérimentez différentes valeurs pour le learning rate, la taille du batch, et le nombre d'époques, et essayez d'interprétez vos observations.\n",
    "\n",
    "Avec des bons hyperparamètres, vous devriez à la fin obtenir une perte avoisinant les 0.2 (train et test)."
   ]
  },
  {
   "cell_type": "markdown",
   "metadata": {},
   "source": [
    "#### Question 9:\n",
    "\n",
    "Enfin, vous pouvez évaluer la politique apprise par imitation au sein de l'environnement. \n",
    "\n",
    "La première cellule permet d'afficher les sortiez générées par votre modèle sur le dataset de test, en comparaison avec les données contenues dans le dataset. Ce graphique représente en abscisse les vraies actions enregistrées dans le dataset, et en ordonnées celles prédites par votre modèle. C'est normal que le modèle ne soit pas parfait, mais on doit quand même observer un corrélation positive.\n",
    "\n",
    "La deuxième cellule sauvegarde votre modèle et lance le simulateur en utilisant votre modèle comme politique de l'agent. Si votre politique fonctionne bien, vous devriez observer un agent qui longe les murs. Si ce n'est pas le cas, il faut corriger votre entraînement du réseau de neurones."
   ]
  },
  {
   "cell_type": "code",
   "execution_count": 17,
   "metadata": {},
   "outputs": [
    {
     "data": {
      "image/png": "[encoded data removed]",
      "text/plain": [
       "<Figure size 640x480 with 1 Axes>"
      ]
     },
     "metadata": {},
     "output_type": "display_data"
    }
   ],
   "source": [
    "ground_truth = y_test\n",
    "predictions = model.predict(x_test)\n",
    "\n",
    "plt.scatter(ground_truth[:, 0], predictions[:, 0], alpha=0.05)\n",
    "plt.xticks([-1, 0, 1])\n",
    "plt.yticks([-1, 0, 1])\n",
    "plt.xlabel('Ground truth')\n",
    "plt.ylabel('Prediction')\n",
    "\n",
    "plt.show()"
   ]
  },
  {
   "cell_type": "code",
   "execution_count": 18,
   "metadata": {},
   "outputs": [
    {
     "name": "stderr",
     "output_type": "stream",
     "text": [
      "2025-09-22 22:19:06.244 Python[63979:1254378] ApplePersistenceIgnoreState: Existing state will not be touched. New state will be written to /var/folders/ng/j6l1mb4n0pdgrbv179zfppq80000gn/T/org.python.python.savedState\n"
     ]
    },
    {
     "ename": "GLException",
     "evalue": "(0x500): Invalid enum. An unacceptable value is specified for an enumerated argument.",
     "output_type": "error",
     "traceback": [
      "\u001b[31m---------------------------------------------------------------------------\u001b[39m",
      "\u001b[31mGLException\u001b[39m                               Traceback (most recent call last)",
      "\u001b[36mCell\u001b[39m\u001b[36m \u001b[39m\u001b[32mIn[18]\u001b[39m\u001b[32m, line 3\u001b[39m\n\u001b[32m      1\u001b[39m \u001b[38;5;28;01mfrom\u001b[39;00m\u001b[38;5;250m \u001b[39m\u001b[34;01menv\u001b[39;00m\u001b[38;5;250m \u001b[39m\u001b[38;5;28;01mimport\u001b[39;00m ModelGUI, ExampleRoom\n\u001b[32m----> \u001b[39m\u001b[32m3\u001b[39m playground = \u001b[43mExampleRoom\u001b[49m\u001b[43m(\u001b[49m\u001b[43m)\u001b[49m\n\u001b[32m      4\u001b[39m gui = ModelGUI(model, playground, playground.agent, draw_sensors=\u001b[38;5;28;01mTrue\u001b[39;00m)\n\u001b[32m      5\u001b[39m gui.run()\n",
      "\u001b[36mFile \u001b[39m\u001b[32m~/Work/ROB/Projets/S9_ROB/TP_IaRob/TP2/env.py:47\u001b[39m, in \u001b[36mExampleRoom.__init__\u001b[39m\u001b[34m(self)\u001b[39m\n\u001b[32m     35\u001b[39m \u001b[38;5;28msuper\u001b[39m().\u001b[34m__init__\u001b[39m(\n\u001b[32m     36\u001b[39m     room_layout=(n_w, n_h),\n\u001b[32m     37\u001b[39m     size_room=(\u001b[32m200\u001b[39m, \u001b[32m200\u001b[39m),\n\u001b[32m   (...)\u001b[39m\u001b[32m     42\u001b[39m     seed=\u001b[32m1\u001b[39m,\n\u001b[32m     43\u001b[39m )\n\u001b[32m     45\u001b[39m \u001b[38;5;28mself\u001b[39m.agent = ExampleAgent()\n\u001b[32m---> \u001b[39m\u001b[32m47\u001b[39m \u001b[38;5;28;43mself\u001b[39;49m\u001b[43m.\u001b[49m\u001b[43madd\u001b[49m\u001b[43m(\u001b[49m\n\u001b[32m     48\u001b[39m \u001b[43m    \u001b[49m\u001b[38;5;28;43mself\u001b[39;49m\u001b[43m.\u001b[49m\u001b[43magent\u001b[49m\u001b[43m,\u001b[49m\u001b[43m \u001b[49m\u001b[38;5;28;43mself\u001b[39;49m\u001b[43m.\u001b[49m\u001b[43m_room_coordinate_sampler\u001b[49m\u001b[43m[\u001b[49m\u001b[43m-\u001b[49m\u001b[32;43m1\u001b[39;49m\u001b[43m]\u001b[49m\u001b[43m,\u001b[49m\u001b[43m \u001b[49m\u001b[43mallow_overlapping\u001b[49m\u001b[43m=\u001b[49m\u001b[38;5;28;43;01mTrue\u001b[39;49;00m\u001b[43m)\u001b[49m\n",
      "\u001b[36mFile \u001b[39m\u001b[32m~/Work/ROB/Projets/S9_ROB/TP_IaRob/myenv/lib/python3.12/site-packages/spg/playground/playground.py:500\u001b[39m, in \u001b[36mPlayground.add\u001b[39m\u001b[34m(self, entity, initial_coordinates, allow_overlapping, from_removed)\u001b[39m\n\u001b[32m    497\u001b[39m \u001b[38;5;28mself\u001b[39m._add_to_views(entity)\n\u001b[32m    499\u001b[39m \u001b[38;5;28;01mif\u001b[39;00m \u001b[38;5;28misinstance\u001b[39m(entity, Agent):\n\u001b[32m--> \u001b[39m\u001b[32m500\u001b[39m     \u001b[38;5;28;43mself\u001b[39;49m\u001b[43m.\u001b[49m\u001b[43madd\u001b[49m\u001b[43m(\u001b[49m\n\u001b[32m    501\u001b[39m \u001b[43m        \u001b[49m\u001b[43mentity\u001b[49m\u001b[43m.\u001b[49m\u001b[43mbase\u001b[49m\u001b[43m,\u001b[49m\n\u001b[32m    502\u001b[39m \u001b[43m        \u001b[49m\u001b[43minitial_coordinates\u001b[49m\u001b[43m=\u001b[49m\u001b[43minitial_coordinates\u001b[49m\u001b[43m,\u001b[49m\n\u001b[32m    503\u001b[39m \u001b[43m        \u001b[49m\u001b[43mallow_overlapping\u001b[49m\u001b[43m=\u001b[49m\u001b[43mallow_overlapping\u001b[49m\u001b[43m,\u001b[49m\n\u001b[32m    504\u001b[39m \u001b[43m        \u001b[49m\u001b[43mfrom_removed\u001b[49m\u001b[43m=\u001b[49m\u001b[43mfrom_removed\u001b[49m\u001b[43m,\u001b[49m\n\u001b[32m    505\u001b[39m \u001b[43m    \u001b[49m\u001b[43m)\u001b[49m\n\u001b[32m    507\u001b[39m \u001b[38;5;28;01mif\u001b[39;00m \u001b[38;5;28misinstance\u001b[39m(entity, PhysicalPart):\n\u001b[32m    509\u001b[39m     \u001b[38;5;28;01mfor\u001b[39;00m part \u001b[38;5;129;01min\u001b[39;00m entity.anchored:\n",
      "\u001b[36mFile \u001b[39m\u001b[32m~/Work/ROB/Projets/S9_ROB/TP_IaRob/myenv/lib/python3.12/site-packages/spg/playground/playground.py:522\u001b[39m, in \u001b[36mPlayground.add\u001b[39m\u001b[34m(self, entity, initial_coordinates, allow_overlapping, from_removed)\u001b[39m\n\u001b[32m    515\u001b[39m         \u001b[38;5;28mself\u001b[39m.add(\n\u001b[32m    516\u001b[39m             device,\n\u001b[32m    517\u001b[39m             allow_overlapping=allow_overlapping,\n\u001b[32m    518\u001b[39m             from_removed=from_removed,\n\u001b[32m    519\u001b[39m         )\n\u001b[32m    521\u001b[39m         \u001b[38;5;28;01mif\u001b[39;00m \u001b[38;5;28misinstance\u001b[39m(device, RaySensor):\n\u001b[32m--> \u001b[39m\u001b[32m522\u001b[39m             \u001b[38;5;28;43mself\u001b[39;49m\u001b[43m.\u001b[49m\u001b[43mray_compute\u001b[49m.add(device)\n\u001b[32m    524\u001b[39m \u001b[38;5;28;01melif\u001b[39;00m \u001b[38;5;28misinstance\u001b[39m(entity, PhysicalElement):\n\u001b[32m    525\u001b[39m     \u001b[38;5;28;01mfor\u001b[39;00m interactive \u001b[38;5;129;01min\u001b[39;00m entity.interactives:\n",
      "\u001b[36mFile \u001b[39m\u001b[32m~/Work/ROB/Projets/S9_ROB/TP_IaRob/myenv/lib/python3.12/site-packages/spg/playground/playground.py:173\u001b[39m, in \u001b[36mPlayground.ray_compute\u001b[39m\u001b[34m(self)\u001b[39m\n\u001b[32m    171\u001b[39m \u001b[38;5;28;01mif\u001b[39;00m \u001b[38;5;129;01mnot\u001b[39;00m \u001b[38;5;28mself\u001b[39m._ray_compute:\n\u001b[32m    172\u001b[39m     \u001b[38;5;28;01massert\u001b[39;00m \u001b[38;5;28mself\u001b[39m._size\n\u001b[32m--> \u001b[39m\u001b[32m173\u001b[39m     \u001b[38;5;28mself\u001b[39m._ray_compute = \u001b[43mRayCompute\u001b[49m\u001b[43m(\u001b[49m\n\u001b[32m    174\u001b[39m \u001b[43m        \u001b[49m\u001b[38;5;28;43mself\u001b[39;49m\u001b[43m,\u001b[49m\u001b[43m \u001b[49m\u001b[38;5;28;43mself\u001b[39;49m\u001b[43m.\u001b[49m\u001b[43m_size\u001b[49m\u001b[43m,\u001b[49m\u001b[43m \u001b[49m\u001b[38;5;28;43mself\u001b[39;49m\u001b[43m.\u001b[49m\u001b[43m_center\u001b[49m\u001b[43m,\u001b[49m\u001b[43m \u001b[49m\u001b[43mzoom\u001b[49m\u001b[43m=\u001b[49m\u001b[32;43m1\u001b[39;49m\u001b[43m,\u001b[49m\u001b[43m \u001b[49m\u001b[43muse_shader\u001b[49m\u001b[43m=\u001b[49m\u001b[38;5;28;43mself\u001b[39;49m\u001b[43m.\u001b[49m\u001b[43m_use_shaders\u001b[49m\n\u001b[32m    175\u001b[39m \u001b[43m    \u001b[49m\u001b[43m)\u001b[49m\n\u001b[32m    177\u001b[39m \u001b[38;5;28;01mreturn\u001b[39;00m \u001b[38;5;28mself\u001b[39m._ray_compute\n",
      "\u001b[36mFile \u001b[39m\u001b[32m~/Work/ROB/Projets/S9_ROB/TP_IaRob/myenv/lib/python3.12/site-packages/spg/agent/sensor/ray.py:64\u001b[39m, in \u001b[36mRayCompute.__init__\u001b[39m\u001b[34m(self, playground, size, center, zoom, use_shader)\u001b[39m\n\u001b[32m     49\u001b[39m \u001b[38;5;28;01mif\u001b[39;00m \u001b[38;5;28mself\u001b[39m._use_shader:\n\u001b[32m     51\u001b[39m     \u001b[38;5;28mself\u001b[39m._view_params_buffer = \u001b[38;5;28mself\u001b[39m.ctx.buffer(\n\u001b[32m     52\u001b[39m         data=array(\n\u001b[32m     53\u001b[39m             \u001b[33m\"\u001b[39m\u001b[33mf\u001b[39m\u001b[33m\"\u001b[39m,\n\u001b[32m   (...)\u001b[39m\u001b[32m     61\u001b[39m         )\n\u001b[32m     62\u001b[39m     )\n\u001b[32m---> \u001b[39m\u001b[32m64\u001b[39m     \u001b[38;5;28;43mself\u001b[39;49m\u001b[43m.\u001b[49m\u001b[43m_view_params_buffer\u001b[49m\u001b[43m.\u001b[49m\u001b[43mbind_to_storage_buffer\u001b[49m\u001b[43m(\u001b[49m\u001b[43mbinding\u001b[49m\u001b[43m=\u001b[49m\u001b[32;43m6\u001b[39;49m\u001b[43m)\u001b[49m\n\u001b[32m     66\u001b[39m     \u001b[38;5;28mself\u001b[39m._position_buffer = \u001b[38;5;28;01mNone\u001b[39;00m\n\u001b[32m     67\u001b[39m     \u001b[38;5;28mself\u001b[39m._param_buffer = \u001b[38;5;28;01mNone\u001b[39;00m\n",
      "\u001b[36mFile \u001b[39m\u001b[32m~/Work/ROB/Projets/S9_ROB/TP_IaRob/myenv/lib/python3.12/site-packages/arcade/gl/buffer.py:244\u001b[39m, in \u001b[36mBuffer.bind_to_storage_buffer\u001b[39m\u001b[34m(self, binding, offset, size)\u001b[39m\n\u001b[32m    241\u001b[39m \u001b[38;5;28;01mif\u001b[39;00m size < \u001b[32m0\u001b[39m:\n\u001b[32m    242\u001b[39m     size = \u001b[38;5;28mself\u001b[39m.size\n\u001b[32m--> \u001b[39m\u001b[32m244\u001b[39m \u001b[43mgl\u001b[49m\u001b[43m.\u001b[49m\u001b[43mglBindBufferRange\u001b[49m\u001b[43m(\u001b[49m\u001b[43mgl\u001b[49m\u001b[43m.\u001b[49m\u001b[43mGL_SHADER_STORAGE_BUFFER\u001b[49m\u001b[43m,\u001b[49m\u001b[43m \u001b[49m\u001b[43mbinding\u001b[49m\u001b[43m,\u001b[49m\u001b[43m \u001b[49m\u001b[38;5;28;43mself\u001b[39;49m\u001b[43m.\u001b[49m\u001b[43m_glo\u001b[49m\u001b[43m,\u001b[49m\u001b[43m \u001b[49m\u001b[43moffset\u001b[49m\u001b[43m,\u001b[49m\u001b[43m \u001b[49m\u001b[43msize\u001b[49m\u001b[43m)\u001b[49m\n",
      "\u001b[36mFile \u001b[39m\u001b[32m~/Work/ROB/Projets/S9_ROB/TP_IaRob/myenv/lib/python3.12/site-packages/pyglet/gl/lib.py:114\u001b[39m, in \u001b[36merrcheck\u001b[39m\u001b[34m(result, func, arguments)\u001b[39m\n\u001b[32m    106\u001b[39m     error_types = {\n\u001b[32m    107\u001b[39m         gl.GL_INVALID_ENUM: \u001b[33m\"\u001b[39m\u001b[33mInvalid enum. An unacceptable value is specified for an enumerated argument.\u001b[39m\u001b[33m\"\u001b[39m,\n\u001b[32m    108\u001b[39m         gl.GL_INVALID_VALUE: \u001b[33m\"\u001b[39m\u001b[33mInvalid value. A numeric argument is out of range.\u001b[39m\u001b[33m\"\u001b[39m,\n\u001b[32m   (...)\u001b[39m\u001b[32m    111\u001b[39m         gl.GL_OUT_OF_MEMORY: \u001b[33m\"\u001b[39m\u001b[33mOut of memory. There is not enough memory left to execute the command.\u001b[39m\u001b[33m\"\u001b[39m,\n\u001b[32m    112\u001b[39m     }\n\u001b[32m    113\u001b[39m     msg = error_types.get(error, \u001b[33m\"\u001b[39m\u001b[33mUnknown error\u001b[39m\u001b[33m\"\u001b[39m)\n\u001b[32m--> \u001b[39m\u001b[32m114\u001b[39m     \u001b[38;5;28;01mraise\u001b[39;00m GLException(\u001b[33m'\u001b[39m\u001b[33m(0x\u001b[39m\u001b[38;5;132;01m%x\u001b[39;00m\u001b[33m): \u001b[39m\u001b[38;5;132;01m%s\u001b[39;00m\u001b[33m'\u001b[39m % (error, msg))\n\u001b[32m    115\u001b[39m \u001b[38;5;28;01mreturn\u001b[39;00m result\n",
      "\u001b[31mGLException\u001b[39m: (0x500): Invalid enum. An unacceptable value is specified for an enumerated argument."
     ]
    }
   ],
   "source": [
    "from env import ModelGUI, ExampleRoom\n",
    "\n",
    "playground = ExampleRoom()\n",
    "gui = ModelGUI(model, playground, playground.agent, draw_sensors=True)\n",
    "gui.run()"
   ]
  },
  {
   "cell_type": "markdown",
   "metadata": {},
   "source": [
    "#### Pour aller plus loin\n",
    "\n",
    "- Que se passe-t'il lorsque le learning rate est trop grand ou trop petit ?\n",
    "\n",
    "| | + | - |\n",
    "| --- | :---: | :---: |\n",
    "| lr grand | convergence rapide | |\n",
    "| lr petit | | minimum local plus précis |\n",
    "\n",
    "- Que risque-t'il de se passer si le dataset d'entraînement est trop petit ? Essayez de réduire sa taille à 1000, 100, 10. Qu'est-ce que vous observez ?\n",
    "    1. Overfitting\n",
    "    2. No learning\n",
    "\n",
    "- Essayez d'implémenter et tester d'autres fonctions d'activation.\n",
    "- Le fichier generate_data.py est utilisé pour générer les données sur lesquelles vous vous êtes entraînés. Ce progamme vous fait générer à la main 10 trajectoires (contrôlées avec le clavier). Les trajectoires se terminent quand l'agent atteint la salle en bas à gauche. Essayez de générer un nouveau dataset suivant une politique différente (par exemple qui longe les murs de gauche). A noter que votre politique doit toujours avancer (le réseau de neurones ne prédit que la rotation). Il faudra éventuellement modifier le fichier pour qu'il sauvegarde les données dans un nouveau fichier sans écraser les autres. Entraînez ensuite votre modèle sur les nouvelles données, est-ce que vous arrivez toujours à imiter la politique que vous avez simulée ? N'oubliez pas que du point de vue de l'agent, seules les valeurs des capteurs de distance sont disponibles, et que le réseau ne peut apprendre que des politiques déterministes."
   ]
  },
  {
   "cell_type": "markdown",
   "metadata": {},
   "source": []
  }
 ],
 "metadata": {
  "kernelspec": {
   "display_name": "myenv",
   "language": "python",
   "name": "python3"
  },
  "language_info": {
   "codemirror_mode": {
    "name": "ipython",
    "version": 3
   },
   "file_extension": ".py",
   "mimetype": "text/x-python",
   "name": "python",
   "nbconvert_exporter": "python",
   "pygments_lexer": "ipython3",
   "version": "3.12.11"
  }
 },
 "nbformat": 4,
 "nbformat_minor": 2
}
